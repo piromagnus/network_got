{
 "cells": [
  {
   "cell_type": "markdown",
   "metadata": {},
   "source": [
    "# Test de link prédiction \n",
    "https://towardsdatascience.com/link-prediction-with-neo4j-part-2-predicting-co-authors-using-scikit-learn-78b42356b44c"
   ]
  },
  {
   "cell_type": "code",
   "execution_count": 1,
   "metadata": {},
   "outputs": [
    {
     "name": "stdout",
     "output_type": "stream",
     "text": [
      "Requirement already satisfied: pandas in /home/piromagnus/.local/lib/python3.8/site-packages (1.0.3)\n",
      "Requirement already satisfied: sklearn in /home/piromagnus/.local/lib/python3.8/site-packages (0.0)\n",
      "Requirement already satisfied: numpy>=1.13.3 in /home/piromagnus/.local/lib/python3.8/site-packages (from pandas) (1.18.4)\n",
      "Requirement already satisfied: python-dateutil>=2.6.1 in /usr/lib/python3/dist-packages (from pandas) (2.7.3)\n",
      "Requirement already satisfied: pytz>=2017.2 in /usr/lib/python3/dist-packages (from pandas) (2019.3)\n",
      "Requirement already satisfied: scikit-learn in /home/piromagnus/.local/lib/python3.8/site-packages (from sklearn) (0.23.1)\n",
      "Requirement already satisfied: joblib>=0.11 in /home/piromagnus/.local/lib/python3.8/site-packages (from scikit-learn->sklearn) (0.15.1)\n",
      "Requirement already satisfied: scipy>=0.19.1 in /home/piromagnus/.local/lib/python3.8/site-packages (from scikit-learn->sklearn) (1.5.0)\n",
      "Requirement already satisfied: threadpoolctl>=2.0.0 in /home/piromagnus/.local/lib/python3.8/site-packages (from scikit-learn->sklearn) (2.1.0)\n",
      "Requirement already up-to-date: py2neo in /home/piromagnus/.local/lib/python3.8/site-packages (4.3.0)\n",
      "Requirement already satisfied, skipping upgrade: colorama in /home/piromagnus/.local/lib/python3.8/site-packages (from py2neo) (0.4.3)\n",
      "Requirement already satisfied, skipping upgrade: urllib3<1.25,>=1.23 in /home/piromagnus/.local/lib/python3.8/site-packages (from py2neo) (1.24.3)\n",
      "Requirement already satisfied, skipping upgrade: pytz in /usr/lib/python3/dist-packages (from py2neo) (2019.3)\n",
      "Requirement already satisfied, skipping upgrade: neobolt~=1.7.12 in /home/piromagnus/.local/lib/python3.8/site-packages (from py2neo) (1.7.17)\n",
      "Processing /home/piromagnus/.cache/pip/wheels/84/2d/01/a397b73c9e48f6c44342c06c436b20b44d53a71f6ba972a992/neotime-1.7.4-py3-none-any.whl\n",
      "Requirement already satisfied, skipping upgrade: certifi in /usr/lib/python3/dist-packages (from py2neo) (2019.11.28)\n",
      "Requirement already satisfied, skipping upgrade: prompt-toolkit~=2.0.7 in /home/piromagnus/.local/lib/python3.8/site-packages (from py2neo) (2.0.10)\n",
      "Requirement already satisfied, skipping upgrade: click==7.0 in /home/piromagnus/.local/lib/python3.8/site-packages (from py2neo) (7.0)\n",
      "Requirement already satisfied, skipping upgrade: pygments~=2.3.1 in /usr/lib/python3/dist-packages (from py2neo) (2.3.1)\n",
      "Requirement already satisfied, skipping upgrade: six in /usr/lib/python3/dist-packages (from neotime~=1.7.4->py2neo) (1.14.0)\n",
      "Requirement already satisfied, skipping upgrade: wcwidth in /usr/lib/python3/dist-packages (from prompt-toolkit~=2.0.7->py2neo) (0.1.8)\n",
      "\u001b[31mERROR: neo4j-driver 1.6.2 has requirement neotime==1.0.0, but you'll have neotime 1.7.4 which is incompatible.\u001b[0m\n",
      "Installing collected packages: neotime\n",
      "  Attempting uninstall: neotime\n",
      "    Found existing installation: neotime 1.0.0\n",
      "    Uninstalling neotime-1.0.0:\n",
      "      Successfully uninstalled neotime-1.0.0\n",
      "Successfully installed neotime-1.7.4\n"
     ]
    }
   ],
   "source": [
    "!pip3 install pandas sklearn\n",
    "!pip3 install --upgrade py2neo"
   ]
  },
  {
   "cell_type": "code",
   "execution_count": 2,
   "metadata": {},
   "outputs": [
    {
     "name": "stdout",
     "output_type": "stream",
     "text": [
      "Requirement already satisfied: neo4j-driver===1.6.2 in /home/piromagnus/.local/lib/python3.8/site-packages (1.6.2)\n",
      "Processing /home/piromagnus/.cache/pip/wheels/46/23/a9/cc5720dd2946915e696c23faf07327467daea1ba8cbfb9ef88/neotime-1.0.0-py3-none-any.whl\n",
      "Requirement already satisfied: six in /usr/lib/python3/dist-packages (from neotime==1.0.0->neo4j-driver===1.6.2) (1.14.0)\n",
      "Requirement already satisfied: pytz in /usr/lib/python3/dist-packages (from neotime==1.0.0->neo4j-driver===1.6.2) (2019.3)\n",
      "\u001b[31mERROR: py2neo 4.3.0 has requirement neotime~=1.7.4, but you'll have neotime 1.0.0 which is incompatible.\u001b[0m\n",
      "Installing collected packages: neotime\n",
      "  Attempting uninstall: neotime\n",
      "    Found existing installation: neotime 1.7.4\n",
      "    Uninstalling neotime-1.7.4:\n",
      "      Successfully uninstalled neotime-1.7.4\n",
      "Successfully installed neotime-1.0.0\n"
     ]
    }
   ],
   "source": [
    "!pip3 install neo4j-driver===1.6.2"
   ]
  },
  {
   "cell_type": "code",
   "execution_count": 3,
   "metadata": {},
   "outputs": [],
   "source": [
    "from py2neo import Graph\n",
    "import pandas as pd\n",
    "graph = Graph(\"bolt://localhost\", auth=(\"neo4j\", \"123\"))"
   ]
  },
  {
   "cell_type": "code",
   "execution_count": 5,
   "metadata": {},
   "outputs": [],
   "source": [
    "# Find positive examples\n",
    "train_existing_links = graph.run(\"\"\"\n",
    "MATCH (a:Character)-[:Interacts_early]->(b:Character)\n",
    "RETURN id(a) AS node1, id(b) AS node2, 1 AS label\n",
    "\"\"\").to_data_frame()# Find negative examples\n",
    "train_missing_links = graph.run(\"\"\"\n",
    "MATCH (a:Character)\n",
    "WHERE (a)-[:Interacts_early]-()\n",
    "MATCH (a)-[:Interacts_early*2..3]-(other)\n",
    "WHERE not((a)-[:Interacts_early]-(other))\n",
    "RETURN id(a) AS node1, id(other) AS node2, 0 AS label\n",
    "\"\"\").to_data_frame()# Remove duplicates\n",
    "train_missing_links = train_missing_links.drop_duplicates()# Down sample negative examples\n",
    "n=len(train_existing_links)\n",
    "train_missing_links = train_missing_links.sample(n)# Create DataFrame from positive and negative examples\n",
    "training_df = train_missing_links.append(\n",
    "    train_existing_links, ignore_index=True)\n",
    "training_df['label'] = training_df['label'].astype('category')\n",
    "print(n)"
   ]
  },
  {
   "cell_type": "code",
   "execution_count": 10,
   "metadata": {},
   "outputs": [
    {
     "ename": "NameError",
     "evalue": "name 'n' is not defined",
     "output_type": "error",
     "traceback": [
      "\u001b[0;31m---------------------------------------------------------------------------\u001b[0m",
      "\u001b[0;31mNameError\u001b[0m                                 Traceback (most recent call last)",
      "\u001b[0;32m<ipython-input-10-44f92af8f8ed>\u001b[0m in \u001b[0;36m<module>\u001b[0;34m\u001b[0m\n\u001b[1;32m     16\u001b[0m     test_existing_links, ignore_index=True)\n\u001b[1;32m     17\u001b[0m \u001b[0mtest_df\u001b[0m\u001b[0;34m[\u001b[0m\u001b[0;34m'label'\u001b[0m\u001b[0;34m]\u001b[0m \u001b[0;34m=\u001b[0m \u001b[0mtest_df\u001b[0m\u001b[0;34m[\u001b[0m\u001b[0;34m'label'\u001b[0m\u001b[0;34m]\u001b[0m\u001b[0;34m.\u001b[0m\u001b[0mastype\u001b[0m\u001b[0;34m(\u001b[0m\u001b[0;34m'category'\u001b[0m\u001b[0;34m)\u001b[0m\u001b[0;34m\u001b[0m\u001b[0;34m\u001b[0m\u001b[0m\n\u001b[0;32m---> 18\u001b[0;31m \u001b[0mprint\u001b[0m\u001b[0;34m(\u001b[0m\u001b[0mn\u001b[0m\u001b[0;34m)\u001b[0m\u001b[0;34m\u001b[0m\u001b[0;34m\u001b[0m\u001b[0m\n\u001b[0m",
      "\u001b[0;31mNameError\u001b[0m: name 'n' is not defined"
     ]
    }
   ],
   "source": [
    "test_existing_links = graph.run(\"\"\"\n",
    "MATCH (a:Character)-[:Interacts_late]->(b:Character)\n",
    "RETURN id(a) AS node1, id(b) AS node2, 1 AS label\n",
    "\"\"\").to_data_frame()# Find negative examples\n",
    "test_missing_links = graph.run(\"\"\"\n",
    "MATCH (a:Character)\n",
    "WHERE (a)-[:Interacts_late]-()\n",
    "MATCH (a)-[:Interacts_late*2..3]-(other)\n",
    "WHERE not((a)-[:Interacts_late]-(other))\n",
    "RETURN id(a) AS node1, id(other) AS node2, 0 AS label\n",
    "\"\"\").to_data_frame()# Remove duplicates\n",
    "test_missing_links = test_missing_links.drop_duplicates()# Down sample negative examples\n",
    "n=len(test_existing_links)\n",
    "test_missing_links = test_missing_links.sample(n)# Create DataFrame from positive and negative examples\n",
    "test_df = test_missing_links.append(\n",
    "    test_existing_links, ignore_index=True)\n",
    "test_df['label'] = test_df['label'].astype('category')\n",
    "print(n)"
   ]
  },
  {
   "cell_type": "code",
   "execution_count": null,
   "metadata": {},
   "outputs": [],
   "source": []
  }
 ],
 "metadata": {
  "kernelspec": {
   "display_name": "Python 3",
   "language": "python",
   "name": "python3"
  },
  "language_info": {
   "codemirror_mode": {
    "name": "ipython",
    "version": 3
   },
   "file_extension": ".py",
   "mimetype": "text/x-python",
   "name": "python",
   "nbconvert_exporter": "python",
   "pygments_lexer": "ipython3",
   "version": "3.8.2"
  }
 },
 "nbformat": 4,
 "nbformat_minor": 4
}
