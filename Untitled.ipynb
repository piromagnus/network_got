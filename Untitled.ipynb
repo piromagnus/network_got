{
 "cells": [
  {
   "cell_type": "markdown",
   "metadata": {},
   "source": [
    "# Test de link prédiction \n",
    "https://towardsdatascience.com/link-prediction-with-neo4j-part-2-predicting-co-authors-using-scikit-learn-78b42356b44c"
   ]
  },
  {
   "cell_type": "code",
   "execution_count": 1,
   "metadata": {},
   "outputs": [
    {
     "name": "stdout",
     "output_type": "stream",
     "text": [
      "Requirement already satisfied: pandas in /home/piromagnus/.local/lib/python3.8/site-packages (1.0.3)\n",
      "Requirement already satisfied: sklearn in /home/piromagnus/.local/lib/python3.8/site-packages (0.0)\n",
      "Requirement already satisfied: python-dateutil>=2.6.1 in /usr/lib/python3/dist-packages (from pandas) (2.7.3)\n",
      "Requirement already satisfied: numpy>=1.13.3 in /home/piromagnus/.local/lib/python3.8/site-packages (from pandas) (1.18.4)\n",
      "Requirement already satisfied: pytz>=2017.2 in /usr/lib/python3/dist-packages (from pandas) (2019.3)\n",
      "Requirement already satisfied: scikit-learn in /home/piromagnus/.local/lib/python3.8/site-packages (from sklearn) (0.23.1)\n",
      "Requirement already satisfied: scipy>=0.19.1 in /home/piromagnus/.local/lib/python3.8/site-packages (from scikit-learn->sklearn) (1.5.0)\n",
      "Requirement already satisfied: joblib>=0.11 in /home/piromagnus/.local/lib/python3.8/site-packages (from scikit-learn->sklearn) (0.15.1)\n",
      "Requirement already satisfied: threadpoolctl>=2.0.0 in /home/piromagnus/.local/lib/python3.8/site-packages (from scikit-learn->sklearn) (2.1.0)\n",
      "Requirement already up-to-date: py2neo in /home/piromagnus/.local/lib/python3.8/site-packages (4.3.0)\n",
      "Requirement already satisfied, skipping upgrade: certifi in /usr/lib/python3/dist-packages (from py2neo) (2019.11.28)\n",
      "Requirement already satisfied, skipping upgrade: prompt-toolkit~=2.0.7 in /home/piromagnus/.local/lib/python3.8/site-packages (from py2neo) (2.0.10)\n",
      "Requirement already satisfied, skipping upgrade: pygments~=2.3.1 in /usr/lib/python3/dist-packages (from py2neo) (2.3.1)\n",
      "Processing /home/piromagnus/.cache/pip/wheels/84/2d/01/a397b73c9e48f6c44342c06c436b20b44d53a71f6ba972a992/neotime-1.7.4-py3-none-any.whl\n",
      "Requirement already satisfied, skipping upgrade: click==7.0 in /home/piromagnus/.local/lib/python3.8/site-packages (from py2neo) (7.0)\n",
      "Requirement already satisfied, skipping upgrade: neobolt~=1.7.12 in /home/piromagnus/.local/lib/python3.8/site-packages (from py2neo) (1.7.17)\n",
      "Requirement already satisfied, skipping upgrade: urllib3<1.25,>=1.23 in /home/piromagnus/.local/lib/python3.8/site-packages (from py2neo) (1.24.3)\n",
      "Requirement already satisfied, skipping upgrade: colorama in /home/piromagnus/.local/lib/python3.8/site-packages (from py2neo) (0.4.3)\n",
      "Requirement already satisfied, skipping upgrade: pytz in /usr/lib/python3/dist-packages (from py2neo) (2019.3)\n",
      "Requirement already satisfied, skipping upgrade: wcwidth in /usr/lib/python3/dist-packages (from prompt-toolkit~=2.0.7->py2neo) (0.1.8)\n",
      "Requirement already satisfied, skipping upgrade: six>=1.9.0 in /usr/lib/python3/dist-packages (from prompt-toolkit~=2.0.7->py2neo) (1.14.0)\n",
      "\u001b[31mERROR: neo4j-driver 1.6.2 has requirement neotime==1.0.0, but you'll have neotime 1.7.4 which is incompatible.\u001b[0m\n",
      "Installing collected packages: neotime\n",
      "  Attempting uninstall: neotime\n",
      "    Found existing installation: neotime 1.0.0\n",
      "    Uninstalling neotime-1.0.0:\n",
      "      Successfully uninstalled neotime-1.0.0\n",
      "Successfully installed neotime-1.7.4\n"
     ]
    }
   ],
   "source": [
    "!pip3 install pandas sklearn\n",
    "!pip3 install --upgrade py2neo"
   ]
  },
  {
   "cell_type": "code",
   "execution_count": 2,
   "metadata": {},
   "outputs": [
    {
     "name": "stdout",
     "output_type": "stream",
     "text": [
      "Requirement already satisfied: neo4j-driver===1.6.2 in /home/piromagnus/.local/lib/python3.8/site-packages (1.6.2)\n",
      "Processing /home/piromagnus/.cache/pip/wheels/46/23/a9/cc5720dd2946915e696c23faf07327467daea1ba8cbfb9ef88/neotime-1.0.0-py3-none-any.whl\n",
      "Requirement already satisfied: pytz in /usr/lib/python3/dist-packages (from neotime==1.0.0->neo4j-driver===1.6.2) (2019.3)\n",
      "Requirement already satisfied: six in /usr/lib/python3/dist-packages (from neotime==1.0.0->neo4j-driver===1.6.2) (1.14.0)\n",
      "\u001b[31mERROR: py2neo 4.3.0 has requirement neotime~=1.7.4, but you'll have neotime 1.0.0 which is incompatible.\u001b[0m\n",
      "Installing collected packages: neotime\n",
      "  Attempting uninstall: neotime\n",
      "    Found existing installation: neotime 1.7.4\n",
      "    Uninstalling neotime-1.7.4:\n",
      "      Successfully uninstalled neotime-1.7.4\n",
      "Successfully installed neotime-1.0.0\n"
     ]
    }
   ],
   "source": [
    "!pip3 install neo4j-driver===1.6.2"
   ]
  },
  {
   "cell_type": "code",
   "execution_count": 3,
   "metadata": {},
   "outputs": [],
   "source": [
    "from py2neo import Graph\n",
    "import pandas as pd\n",
    "graph = Graph(\"bolt://localhost\", auth=(\"neo4j\", \"neo\"))"
   ]
  },
  {
   "cell_type": "code",
   "execution_count": null,
   "metadata": {},
   "outputs": [],
   "source": [
    "# Find positive examples\n",
    "train_existing_links = graph.run(\"\"\"\n",
    "MATCH (author:Author)-[:CO_AUTHOR_EARLY]->(other:Author)\n",
    "RETURN id(author) AS node1, id(other) AS node2, 1 AS label\n",
    "\"\"\").to_data_frame()# Find negative examples\n",
    "train_missing_links = graph.run(\"\"\"\n",
    "MATCH (author:Author)\n",
    "WHERE (author)-[:CO_AUTHOR_EARLY]-()\n",
    "MATCH (author)-[:CO_AUTHOR_EARLY*2..3]-(other)\n",
    "WHERE not((author)-[:CO_AUTHOR_EARLY]-(other))\n",
    "RETURN id(author) AS node1, id(other) AS node2, 0 AS label\n",
    "\"\"\").to_data_frame()# Remove duplicates\n",
    "train_missing_links = train_missing_links.drop_duplicates()# Down sample negative examples\n",
    "train_missing_links = train_missing_links.sample(\n",
    "    n=len(train_existing_links))# Create DataFrame from positive and negative examples\n",
    "training_df = train_missing_links.append(\n",
    "    train_existing_links, ignore_index=True)\n",
    "training_df['label'] = training_df['label'].astype('category')"
   ]
  },
  {
   "cell_type": "code",
   "execution_count": null,
   "metadata": {},
   "outputs": [],
   "source": []
  }
 ],
 "metadata": {
  "kernelspec": {
   "display_name": "Python 3",
   "language": "python",
   "name": "python3"
  },
  "language_info": {
   "codemirror_mode": {
    "name": "ipython",
    "version": 3
   },
   "file_extension": ".py",
   "mimetype": "text/x-python",
   "name": "python",
   "nbconvert_exporter": "python",
   "pygments_lexer": "ipython3",
   "version": "3.8.2"
  }
 },
 "nbformat": 4,
 "nbformat_minor": 4
}
